{
  "nbformat": 4,
  "nbformat_minor": 0,
  "metadata": {
    "colab": {
      "provenance": [],
      "gpuType": "T4",
      "authorship_tag": "ABX9TyMxg2hfBiWtDpWQXMf5e4kq"
    },
    "kernelspec": {
      "name": "python3",
      "display_name": "Python 3"
    },
    "language_info": {
      "name": "python"
    },
    "accelerator": "GPU"
  },
  "cells": [
    {
      "cell_type": "code",
      "execution_count": 1,
      "metadata": {
        "colab": {
          "base_uri": "https://localhost:8080/"
        },
        "id": "rOnFHAD4hYXR",
        "outputId": "417d19a8-d5c0-4333-b43a-141e98a8d6ac"
      },
      "outputs": [
        {
          "output_type": "stream",
          "name": "stdout",
          "text": [
            "Collecting langchain-community\n",
            "  Downloading langchain_community-0.3.17-py3-none-any.whl.metadata (2.4 kB)\n",
            "Collecting pypdf\n",
            "  Downloading pypdf-5.3.0-py3-none-any.whl.metadata (7.2 kB)\n",
            "Collecting langchain-core<1.0.0,>=0.3.34 (from langchain-community)\n",
            "  Downloading langchain_core-0.3.34-py3-none-any.whl.metadata (5.9 kB)\n",
            "Collecting langchain<1.0.0,>=0.3.18 (from langchain-community)\n",
            "  Downloading langchain-0.3.18-py3-none-any.whl.metadata (7.8 kB)\n",
            "Requirement already satisfied: SQLAlchemy<3,>=1.4 in /usr/local/lib/python3.11/dist-packages (from langchain-community) (2.0.37)\n",
            "Requirement already satisfied: requests<3,>=2 in /usr/local/lib/python3.11/dist-packages (from langchain-community) (2.32.3)\n",
            "Requirement already satisfied: PyYAML>=5.3 in /usr/local/lib/python3.11/dist-packages (from langchain-community) (6.0.2)\n",
            "Requirement already satisfied: aiohttp<4.0.0,>=3.8.3 in /usr/local/lib/python3.11/dist-packages (from langchain-community) (3.11.12)\n",
            "Requirement already satisfied: tenacity!=8.4.0,<10,>=8.1.0 in /usr/local/lib/python3.11/dist-packages (from langchain-community) (9.0.0)\n",
            "Collecting dataclasses-json<0.7,>=0.5.7 (from langchain-community)\n",
            "  Downloading dataclasses_json-0.6.7-py3-none-any.whl.metadata (25 kB)\n",
            "Collecting pydantic-settings<3.0.0,>=2.4.0 (from langchain-community)\n",
            "  Downloading pydantic_settings-2.7.1-py3-none-any.whl.metadata (3.5 kB)\n",
            "Requirement already satisfied: langsmith<0.4,>=0.1.125 in /usr/local/lib/python3.11/dist-packages (from langchain-community) (0.3.6)\n",
            "Collecting httpx-sse<1.0.0,>=0.4.0 (from langchain-community)\n",
            "  Downloading httpx_sse-0.4.0-py3-none-any.whl.metadata (9.0 kB)\n",
            "Requirement already satisfied: numpy<2,>=1.26.4 in /usr/local/lib/python3.11/dist-packages (from langchain-community) (1.26.4)\n",
            "Requirement already satisfied: aiohappyeyeballs>=2.3.0 in /usr/local/lib/python3.11/dist-packages (from aiohttp<4.0.0,>=3.8.3->langchain-community) (2.4.4)\n",
            "Requirement already satisfied: aiosignal>=1.1.2 in /usr/local/lib/python3.11/dist-packages (from aiohttp<4.0.0,>=3.8.3->langchain-community) (1.3.2)\n",
            "Requirement already satisfied: attrs>=17.3.0 in /usr/local/lib/python3.11/dist-packages (from aiohttp<4.0.0,>=3.8.3->langchain-community) (25.1.0)\n",
            "Requirement already satisfied: frozenlist>=1.1.1 in /usr/local/lib/python3.11/dist-packages (from aiohttp<4.0.0,>=3.8.3->langchain-community) (1.5.0)\n",
            "Requirement already satisfied: multidict<7.0,>=4.5 in /usr/local/lib/python3.11/dist-packages (from aiohttp<4.0.0,>=3.8.3->langchain-community) (6.1.0)\n",
            "Requirement already satisfied: propcache>=0.2.0 in /usr/local/lib/python3.11/dist-packages (from aiohttp<4.0.0,>=3.8.3->langchain-community) (0.2.1)\n",
            "Requirement already satisfied: yarl<2.0,>=1.17.0 in /usr/local/lib/python3.11/dist-packages (from aiohttp<4.0.0,>=3.8.3->langchain-community) (1.18.3)\n",
            "Collecting marshmallow<4.0.0,>=3.18.0 (from dataclasses-json<0.7,>=0.5.7->langchain-community)\n",
            "  Downloading marshmallow-3.26.1-py3-none-any.whl.metadata (7.3 kB)\n",
            "Collecting typing-inspect<1,>=0.4.0 (from dataclasses-json<0.7,>=0.5.7->langchain-community)\n",
            "  Downloading typing_inspect-0.9.0-py3-none-any.whl.metadata (1.5 kB)\n",
            "Collecting langchain-text-splitters<1.0.0,>=0.3.6 (from langchain<1.0.0,>=0.3.18->langchain-community)\n",
            "  Downloading langchain_text_splitters-0.3.6-py3-none-any.whl.metadata (1.9 kB)\n",
            "Requirement already satisfied: pydantic<3.0.0,>=2.7.4 in /usr/local/lib/python3.11/dist-packages (from langchain<1.0.0,>=0.3.18->langchain-community) (2.10.6)\n",
            "Requirement already satisfied: jsonpatch<2.0,>=1.33 in /usr/local/lib/python3.11/dist-packages (from langchain-core<1.0.0,>=0.3.34->langchain-community) (1.33)\n",
            "Requirement already satisfied: packaging<25,>=23.2 in /usr/local/lib/python3.11/dist-packages (from langchain-core<1.0.0,>=0.3.34->langchain-community) (24.2)\n",
            "Requirement already satisfied: typing-extensions>=4.7 in /usr/local/lib/python3.11/dist-packages (from langchain-core<1.0.0,>=0.3.34->langchain-community) (4.12.2)\n",
            "Requirement already satisfied: httpx<1,>=0.23.0 in /usr/local/lib/python3.11/dist-packages (from langsmith<0.4,>=0.1.125->langchain-community) (0.28.1)\n",
            "Requirement already satisfied: orjson<4.0.0,>=3.9.14 in /usr/local/lib/python3.11/dist-packages (from langsmith<0.4,>=0.1.125->langchain-community) (3.10.15)\n",
            "Requirement already satisfied: requests-toolbelt<2.0.0,>=1.0.0 in /usr/local/lib/python3.11/dist-packages (from langsmith<0.4,>=0.1.125->langchain-community) (1.0.0)\n",
            "Requirement already satisfied: zstandard<0.24.0,>=0.23.0 in /usr/local/lib/python3.11/dist-packages (from langsmith<0.4,>=0.1.125->langchain-community) (0.23.0)\n",
            "Collecting python-dotenv>=0.21.0 (from pydantic-settings<3.0.0,>=2.4.0->langchain-community)\n",
            "  Downloading python_dotenv-1.0.1-py3-none-any.whl.metadata (23 kB)\n",
            "Requirement already satisfied: charset-normalizer<4,>=2 in /usr/local/lib/python3.11/dist-packages (from requests<3,>=2->langchain-community) (3.4.1)\n",
            "Requirement already satisfied: idna<4,>=2.5 in /usr/local/lib/python3.11/dist-packages (from requests<3,>=2->langchain-community) (3.10)\n",
            "Requirement already satisfied: urllib3<3,>=1.21.1 in /usr/local/lib/python3.11/dist-packages (from requests<3,>=2->langchain-community) (2.3.0)\n",
            "Requirement already satisfied: certifi>=2017.4.17 in /usr/local/lib/python3.11/dist-packages (from requests<3,>=2->langchain-community) (2025.1.31)\n",
            "Requirement already satisfied: greenlet!=0.4.17 in /usr/local/lib/python3.11/dist-packages (from SQLAlchemy<3,>=1.4->langchain-community) (3.1.1)\n",
            "Requirement already satisfied: anyio in /usr/local/lib/python3.11/dist-packages (from httpx<1,>=0.23.0->langsmith<0.4,>=0.1.125->langchain-community) (3.7.1)\n",
            "Requirement already satisfied: httpcore==1.* in /usr/local/lib/python3.11/dist-packages (from httpx<1,>=0.23.0->langsmith<0.4,>=0.1.125->langchain-community) (1.0.7)\n",
            "Requirement already satisfied: h11<0.15,>=0.13 in /usr/local/lib/python3.11/dist-packages (from httpcore==1.*->httpx<1,>=0.23.0->langsmith<0.4,>=0.1.125->langchain-community) (0.14.0)\n",
            "Requirement already satisfied: jsonpointer>=1.9 in /usr/local/lib/python3.11/dist-packages (from jsonpatch<2.0,>=1.33->langchain-core<1.0.0,>=0.3.34->langchain-community) (3.0.0)\n",
            "Requirement already satisfied: annotated-types>=0.6.0 in /usr/local/lib/python3.11/dist-packages (from pydantic<3.0.0,>=2.7.4->langchain<1.0.0,>=0.3.18->langchain-community) (0.7.0)\n",
            "Requirement already satisfied: pydantic-core==2.27.2 in /usr/local/lib/python3.11/dist-packages (from pydantic<3.0.0,>=2.7.4->langchain<1.0.0,>=0.3.18->langchain-community) (2.27.2)\n",
            "Collecting mypy-extensions>=0.3.0 (from typing-inspect<1,>=0.4.0->dataclasses-json<0.7,>=0.5.7->langchain-community)\n",
            "  Downloading mypy_extensions-1.0.0-py3-none-any.whl.metadata (1.1 kB)\n",
            "Requirement already satisfied: sniffio>=1.1 in /usr/local/lib/python3.11/dist-packages (from anyio->httpx<1,>=0.23.0->langsmith<0.4,>=0.1.125->langchain-community) (1.3.1)\n",
            "Downloading langchain_community-0.3.17-py3-none-any.whl (2.5 MB)\n",
            "\u001b[2K   \u001b[90m━━━━━━━━━━━━━━━━━━━━━━━━━━━━━━━━━━━━━━━━\u001b[0m \u001b[32m2.5/2.5 MB\u001b[0m \u001b[31m40.5 MB/s\u001b[0m eta \u001b[36m0:00:00\u001b[0m\n",
            "\u001b[?25hDownloading pypdf-5.3.0-py3-none-any.whl (300 kB)\n",
            "\u001b[2K   \u001b[90m━━━━━━━━━━━━━━━━━━━━━━━━━━━━━━━━━━━━━━━━\u001b[0m \u001b[32m300.7/300.7 kB\u001b[0m \u001b[31m20.5 MB/s\u001b[0m eta \u001b[36m0:00:00\u001b[0m\n",
            "\u001b[?25hDownloading dataclasses_json-0.6.7-py3-none-any.whl (28 kB)\n",
            "Downloading httpx_sse-0.4.0-py3-none-any.whl (7.8 kB)\n",
            "Downloading langchain-0.3.18-py3-none-any.whl (1.0 MB)\n",
            "\u001b[2K   \u001b[90m━━━━━━━━━━━━━━━━━━━━━━━━━━━━━━━━━━━━━━━━\u001b[0m \u001b[32m1.0/1.0 MB\u001b[0m \u001b[31m50.8 MB/s\u001b[0m eta \u001b[36m0:00:00\u001b[0m\n",
            "\u001b[?25hDownloading langchain_core-0.3.34-py3-none-any.whl (412 kB)\n",
            "\u001b[2K   \u001b[90m━━━━━━━━━━━━━━━━━━━━━━━━━━━━━━━━━━━━━━━━\u001b[0m \u001b[32m413.0/413.0 kB\u001b[0m \u001b[31m28.6 MB/s\u001b[0m eta \u001b[36m0:00:00\u001b[0m\n",
            "\u001b[?25hDownloading pydantic_settings-2.7.1-py3-none-any.whl (29 kB)\n",
            "Downloading langchain_text_splitters-0.3.6-py3-none-any.whl (31 kB)\n",
            "Downloading marshmallow-3.26.1-py3-none-any.whl (50 kB)\n",
            "\u001b[2K   \u001b[90m━━━━━━━━━━━━━━━━━━━━━━━━━━━━━━━━━━━━━━━━\u001b[0m \u001b[32m50.9/50.9 kB\u001b[0m \u001b[31m3.8 MB/s\u001b[0m eta \u001b[36m0:00:00\u001b[0m\n",
            "\u001b[?25hDownloading python_dotenv-1.0.1-py3-none-any.whl (19 kB)\n",
            "Downloading typing_inspect-0.9.0-py3-none-any.whl (8.8 kB)\n",
            "Downloading mypy_extensions-1.0.0-py3-none-any.whl (4.7 kB)\n",
            "Installing collected packages: python-dotenv, pypdf, mypy-extensions, marshmallow, httpx-sse, typing-inspect, pydantic-settings, dataclasses-json, langchain-core, langchain-text-splitters, langchain, langchain-community\n",
            "  Attempting uninstall: langchain-core\n",
            "    Found existing installation: langchain-core 0.3.33\n",
            "    Uninstalling langchain-core-0.3.33:\n",
            "      Successfully uninstalled langchain-core-0.3.33\n",
            "  Attempting uninstall: langchain-text-splitters\n",
            "    Found existing installation: langchain-text-splitters 0.3.5\n",
            "    Uninstalling langchain-text-splitters-0.3.5:\n",
            "      Successfully uninstalled langchain-text-splitters-0.3.5\n",
            "  Attempting uninstall: langchain\n",
            "    Found existing installation: langchain 0.3.17\n",
            "    Uninstalling langchain-0.3.17:\n",
            "      Successfully uninstalled langchain-0.3.17\n",
            "Successfully installed dataclasses-json-0.6.7 httpx-sse-0.4.0 langchain-0.3.18 langchain-community-0.3.17 langchain-core-0.3.34 langchain-text-splitters-0.3.6 marshmallow-3.26.1 mypy-extensions-1.0.0 pydantic-settings-2.7.1 pypdf-5.3.0 python-dotenv-1.0.1 typing-inspect-0.9.0\n"
          ]
        }
      ],
      "source": [
        "!pip install langchain-community pypdf"
      ]
    },
    {
      "cell_type": "code",
      "source": [
        "import getpass\n",
        "import os\n",
        "\n",
        "os.environ[\"LANGSMITH_TRACING\"] = \"true\"\n",
        "os.environ[\"LANGSMITH_API_KEY\"] = getpass.getpass()"
      ],
      "metadata": {
        "colab": {
          "base_uri": "https://localhost:8080/"
        },
        "id": "t7nnKYDlhwbQ",
        "outputId": "d40bb130-a1f5-42c8-ce57-68573ce4e052"
      },
      "execution_count": 2,
      "outputs": [
        {
          "name": "stdout",
          "output_type": "stream",
          "text": [
            "··········\n"
          ]
        }
      ]
    },
    {
      "cell_type": "code",
      "source": [
        "from langchain_community.document_loaders import PyPDFLoader\n",
        "\n",
        "file_path = \"/content/Indian_independence_movement.pdf\"\n",
        "loader = PyPDFLoader(file_path)\n",
        "\n",
        "docs = loader.load()\n",
        "\n",
        "print(len(docs))"
      ],
      "metadata": {
        "colab": {
          "base_uri": "https://localhost:8080/"
        },
        "id": "iNIE04wsiMiO",
        "outputId": "6db5e371-9cfb-4e19-ce96-44af58b7c17a"
      },
      "execution_count": 3,
      "outputs": [
        {
          "output_type": "stream",
          "name": "stdout",
          "text": [
            "46\n"
          ]
        }
      ]
    },
    {
      "cell_type": "code",
      "source": [
        "print(f\"{docs[0].page_content[:200]}\\n\")\n",
        "print(docs[0].metadata)"
      ],
      "metadata": {
        "colab": {
          "base_uri": "https://localhost:8080/"
        },
        "id": "GgpRzi3DieXN",
        "outputId": "66a34989-3315-4f6a-c089-deec02b066ad"
      },
      "execution_count": 4,
      "outputs": [
        {
          "output_type": "stream",
          "name": "stdout",
          "text": [
            "Indian independence movement\n",
            "The Indian Independence Movement was a series of historic events in South Asia with the ultimate aim\n",
            "of ending British colonial rule. It lasted until 1947, when the Indian\n",
            "\n",
            "{'producer': 'Skia/PDF m128', 'creator': 'Mozilla/5.0 (X11; Linux x86_64) AppleWebKit/537.36 (KHTML, like Gecko) HeadlessChrome/128.0.0.0 Safari/537.36', 'creationdate': '2024-12-16T12:13:11+00:00', 'title': 'Indian independence movement - Wikipedia', 'moddate': '2024-12-16T12:13:11+00:00', 'source': '/content/Indian_independence_movement.pdf', 'total_pages': 46, 'page': 0, 'page_label': '1'}\n"
          ]
        }
      ]
    },
    {
      "cell_type": "code",
      "source": [
        "from langchain_text_splitters import RecursiveCharacterTextSplitter\n",
        "\n",
        "text_splitter = RecursiveCharacterTextSplitter(\n",
        "    chunk_size=600, chunk_overlap=100, add_start_index=True\n",
        ")\n",
        "all_splits = text_splitter.split_documents(docs)\n",
        "\n",
        "len(all_splits)"
      ],
      "metadata": {
        "colab": {
          "base_uri": "https://localhost:8080/"
        },
        "id": "nQ-chthni0SI",
        "outputId": "7e1b2e60-c17a-4c68-cfd5-5537754ead1a"
      },
      "execution_count": 90,
      "outputs": [
        {
          "output_type": "execute_result",
          "data": {
            "text/plain": [
              "269"
            ]
          },
          "metadata": {},
          "execution_count": 90
        }
      ]
    },
    {
      "cell_type": "code",
      "source": [
        "!pip install -qU langchain-huggingface"
      ],
      "metadata": {
        "id": "RHeU2MjYjOqe"
      },
      "execution_count": 91,
      "outputs": []
    },
    {
      "cell_type": "code",
      "source": [
        "from langchain_huggingface import HuggingFaceEmbeddings\n",
        "\n",
        "embeddings = HuggingFaceEmbeddings(model_name=\"sentence-transformers/all-distilroberta-v1\")"
      ],
      "metadata": {
        "id": "GBnXzWCCjsP-"
      },
      "execution_count": 92,
      "outputs": []
    },
    {
      "cell_type": "code",
      "source": [
        "vector_1 = embeddings.embed_query(all_splits[0].page_content)\n",
        "vector_2 = embeddings.embed_query(all_splits[1].page_content)\n",
        "\n",
        "assert len(vector_1) == len(vector_2)\n",
        "print(f\"Generated vectors of length {len(vector_1)}\\n\")\n",
        "print(vector_1)"
      ],
      "metadata": {
        "colab": {
          "base_uri": "https://localhost:8080/"
        },
        "id": "4m-8KDj8j26-",
        "outputId": "99511b43-3725-42ac-f016-d61ee24430c2"
      },
      "execution_count": 93,
      "outputs": [
        {
          "output_type": "stream",
          "name": "stdout",
          "text": [
            "Generated vectors of length 768\n",
            "\n",
            "[0.011785837821662426, 0.02715216763317585, -0.006809072103351355, 0.05964178219437599, 0.10289416462182999, 0.005167822353541851, -0.03296468034386635, 0.014794649556279182, 0.048582885414361954, -0.024443218484520912, -0.052192673087120056, -0.01325240358710289, -0.04117967188358307, 0.039585188031196594, 0.061721671372652054, -0.05321848392486572, 0.06395433098077774, 0.026178233325481415, 0.023485092446208, -0.03073945827782154, -0.04143061116337776, 0.02167350985109806, -0.019488468766212463, -0.014448628760874271, 0.07783444225788116, 0.03274645656347275, 0.04642306640744209, -0.02075904794037342, -0.028354981914162636, 0.044887445867061615, 0.0022504921071231365, 0.004986620973795652, 0.02744654007256031, -0.013472105376422405, 0.018450956791639328, -0.014897952787578106, -0.0356437973678112, -0.014498759992420673, -0.0012308848090469837, -0.010517731308937073, -0.024909131228923798, 0.012558088637888432, -0.004659480415284634, -0.07240691781044006, 0.05423003435134888, 0.04481581225991249, 0.0006600788910873234, 0.01260326150804758, -0.0010846747318282723, 0.02124987542629242, 0.022993361577391624, -0.009557933546602726, 0.021317271515727043, -0.010228882543742657, 0.02143092453479767, 0.006772694643586874, 0.021155016496777534, 0.017557809129357338, 0.0021506494376808405, -0.009959619492292404, 0.05446506291627884, -0.025621304288506508, -0.025717351585626602, -0.09743809700012207, -0.01958336867392063, 0.006202789954841137, -0.028478162363171577, 0.023716488853096962, -0.04563608393073082, -0.00037571831489913166, 0.010058724321424961, 0.0487651452422142, -0.02684221789240837, 0.044285353273153305, -0.056251995265483856, 0.00012457772390916944, -0.010179733857512474, -0.01602727361023426, -0.010881605558097363, -0.08393193036317825, -0.034904830157756805, 0.015066559426486492, -0.030339790508151054, 0.02688540890812874, 0.02188328467309475, -0.014376150444149971, -0.02207854576408863, -0.052769120782613754, -0.03849528357386589, 0.020171742886304855, -0.0010345822665840387, -0.008312280289828777, 0.029306810349225998, 0.04789653792977333, 0.006437643431127071, 0.04176171496510506, -0.024028221145272255, -0.10410665720701218, 0.05819675326347351, -0.047883838415145874, 0.03610380366444588, -0.0030303248204290867, -0.06821880489587784, -0.014430507086217403, 0.017171619459986687, -0.07644271850585938, 0.003276302246376872, -0.0027906084433197975, -0.022114429622888565, -0.04264657944440842, -0.039997898042201996, 0.0003580941411200911, 0.02579261176288128, -0.02997261844575405, -0.020242389291524887, -0.036937128752470016, -0.022514455020427704, -0.039768531918525696, 0.04812982305884361, -0.051249437034130096, -0.03506384417414665, -0.031214352697134018, 0.051677506417036057, -0.06746028363704681, -0.01258864812552929, -0.01892022229731083, 0.008100518025457859, 0.042145371437072754, -0.002982125850394368, 0.022477520629763603, 0.010896117426455021, -0.08993416279554367, 0.0747123658657074, -0.03635323792695999, -0.00421271612867713, -0.0037446131464093924, 0.028197191655635834, -0.006646700203418732, -0.0361146554350853, 0.0919451117515564, 0.029926637187600136, 0.017065558582544327, -0.06134907156229019, 0.015798553824424744, -0.0885886400938034, -0.01670626550912857, -0.017943214625120163, -0.0007071691798046231, 0.049962982535362244, 0.07038012892007828, 0.03528762608766556, -0.05869012326002121, 0.005344891455024481, -0.013814066536724567, 0.017376020550727844, -0.02112014777958393, -0.043157242238521576, -0.08463983982801437, -0.01204875111579895, -0.05198872834444046, -0.009890450164675713, 0.048294104635715485, -0.04130083695054054, -0.024476896971464157, 0.0034177922643721104, 0.039691705256700516, 0.007507544942200184, 0.042948126792907715, 0.013902690261602402, 0.014304744079709053, -0.03767731040716171, -0.021161679178476334, -0.02058279700577259, -0.03443588316440582, -0.03368489444255829, -0.0022251487243920565, -0.043706078082323074, 0.0168197900056839, -0.017746828496456146, -0.03524802252650261, 0.03011726774275303, 0.005866946652531624, 0.056214623153209686, 0.008586710318922997, 0.03254121541976929, -0.03917882591485977, 0.012087654322385788, -0.003118878463283181, -0.034183304756879807, -0.04067710041999817, -0.008401285856962204, -0.03140668198466301, -0.014807860367000103, 0.008002097718417645, -0.009452760219573975, -0.03128153830766678, -0.005472964607179165, -0.014765813946723938, 0.031582608819007874, 0.02856191247701645, -0.0027057623956352472, 0.0014191430527716875, -0.040350399911403656, -0.032591357827186584, -0.037270188331604004, -0.05808619037270546, -0.06123332679271698, 0.06879173964262009, -0.028210731223225594, -0.004873077850788832, -0.056528374552726746, -0.005396717693656683, 0.027362117543816566, -0.009958584792912006, -0.04669751226902008, -0.053235214203596115, 0.0671009048819542, -0.00706476578488946, -0.019190076738595963, 0.005563718266785145, -0.023209577426314354, 0.03801438584923744, 0.007567731197923422, -0.00840736087411642, 0.030294807627797127, -0.011300787329673767, 0.002145708305761218, 0.013554003089666367, 0.0031298950780183077, -0.08996870368719101, 0.00014625837502535433, -0.0617353655397892, -0.049577903002500534, 0.05041699483990669, -0.006246455945074558, 0.0018079237779602408, 0.035802729427814484, -0.029325488954782486, -0.0140191949903965, 0.045562438666820526, 0.03899097070097923, -0.030499514192342758, -0.038867831230163574, 0.03260105848312378, -0.015815023332834244, -0.04807979241013527, -0.012842545285820961, 0.02404911257326603, -0.04365147277712822, 0.011117915622889996, 0.009062149561941624, 0.008357712998986244, -0.010206703096628189, 0.03182218596339226, 0.00755356764420867, 0.019464178010821342, -0.02815031260251999, -0.03683621063828468, 0.005235019605606794, 0.04963096231222153, -0.013375609181821346, 0.0066499304957687855, 0.008181924931704998, -0.019998833537101746, 0.02749556116759777, 0.02505732700228691, 0.019745856523513794, 0.018680263310670853, 0.022785775363445282, 0.005279200617223978, 0.022399187088012695, -0.01985187642276287, 0.000824079557787627, 0.0442291684448719, 0.03557521477341652, -0.02037050761282444, 0.004548891447484493, -0.02191428653895855, -0.05931564047932625, 0.024006199091672897, -0.025440318509936333, 0.0053799813613295555, 0.0058709923177957535, 0.0008341948268935084, -0.046484339982271194, -0.06808934360742569, -0.040560465306043625, 8.908948802854866e-05, 0.005056905560195446, 0.018170161172747612, 0.013326277956366539, -0.017046820372343063, -0.05793752521276474, 0.02001296356320381, -0.013928476721048355, -0.015765195712447166, -0.023730024695396423, 0.025815792381763458, -0.018174033612012863, 0.033742163330316544, 0.03740355372428894, -0.04595321789383888, 0.020702490583062172, 0.02500799298286438, -0.013462995178997517, 0.050526950508356094, -0.037801433354616165, -0.0017730675172060728, 0.04806637018918991, 0.04260836914181709, 0.041174132376909256, 0.0511094368994236, -0.01889663189649582, -0.05546249449253082, 0.021663308143615723, -0.016056641936302185, 0.0010231179185211658, 0.013392612338066101, -0.03033745288848877, 0.035594746470451355, -0.03642699494957924, -0.04956435784697533, 0.07585380971431732, -0.06909248977899551, -0.03110230341553688, -0.01032344438135624, 0.07581815868616104, -0.03936408832669258, -0.0021266313269734383, -0.03182801976799965, 0.026940278708934784, -0.00010301833390258253, 0.043987639248371124, -0.0425928495824337, 0.017718680202960968, 0.049965523183345795, 0.008775145746767521, -0.031068263575434685, 0.028437165543437004, 0.016192469745874405, 0.05648075044155121, -0.0937923789024353, 0.009313908405601978, -0.01675238274037838, 0.025989050045609474, 0.08350692689418793, -0.029411599040031433, -0.042049963027238846, 0.013516045175492764, 0.0051387278363108635, -0.0018117725849151611, -0.09232708811759949, -0.029066745191812515, -0.03688574209809303, -0.005395715124905109, 0.03944467380642891, 0.055378105491399765, -0.0444612093269825, -0.011218894273042679, 0.04629984125494957, 0.03945109248161316, -0.03129351884126663, -0.014973802492022514, 0.027733322232961655, 0.07118057459592819, -0.055471573024988174, 0.03351733833551407, -0.008689084090292454, -0.009202981367707253, -0.013928626663982868, 0.0050127701833844185, -0.03261850029230118, -0.02323504351079464, 0.04610757157206535, -0.029258564114570618, -0.00467154523357749, -0.035674914717674255, 0.03139085695147514, -0.04918014258146286, -0.025987423956394196, 0.0032749397214502096, 0.1075608879327774, 0.01812415011227131, 0.04199616238474846, 0.05287320166826248, -0.06111280247569084, -0.060230862349271774, -0.01625058241188526, 0.03621571511030197, 0.0006891596131026745, 0.007710615172982216, -0.044848110526800156, 0.08495374023914337, -0.02978736348450184, 0.0009897990385070443, 0.02224741503596306, -0.00848392304033041, -0.046728577464818954, 0.01737174764275551, 0.0009909238433465362, -0.039485104382038116, 0.03150756284594536, -0.07274694740772247, -0.027440721169114113, -0.08037246018648148, -0.015781830996274948, 0.05722174793481827, -0.0010521600488573313, 0.002772329607978463, 0.028269531205296516, -0.008052388206124306, 0.10354861617088318, -0.012803871184587479, 0.055627480149269104, -0.057386364787817, -0.005109433550387621, -0.026139533147215843, 0.013189981691539288, 0.0030106310732662678, 0.04858917370438576, -0.015154605731368065, -0.012146636843681335, -0.021388130262494087, -0.010468849912285805, 0.041330013424158096, -0.00819722656160593, 0.05712001398205757, -0.0051710763946175575, -0.049884095788002014, -0.0038254542741924524, 0.0274098739027977, -0.04111615568399429, -0.01561492495238781, -0.01925509236752987, 0.0005886053550057113, 0.029863378033041954, -0.026263592764735222, 0.012094791978597641, 0.004217429086565971, 0.03094518557190895, -0.00190974329598248, 0.01454937644302845, -0.0008228381630033255, 0.07920890301465988, -0.015314129181206226, -0.014262968674302101, -0.04120882973074913, 0.00823207851499319, 0.014186996966600418, -0.010636151768267155, 0.008275991305708885, 0.01346362754702568, -0.04216780140995979, 0.019361108541488647, -0.014468233101069927, -0.06728676706552505, -0.008744020015001297, 0.0007756276172585785, 0.04404541477560997, 0.061802949756383896, 0.0016772635281085968, -0.0030526164919137955, 0.03432769700884819, -0.05837121605873108, -0.031733375042676926, 0.007425917312502861, -0.05000319331884384, 0.08443374186754227, 0.019462425261735916, 0.016459403559565544, -0.007534951902925968, 0.005374449770897627, 0.008269731886684895, -0.02256905660033226, -0.012701335363090038, 0.005092715844511986, 0.05236486345529556, -0.053535446524620056, 0.01630064845085144, 0.07188183069229126, 0.016718938946723938, -0.0034798483829945326, -0.015083368867635727, -0.02848927304148674, 0.05328192561864853, -0.005039573181420565, 0.007253351155668497, -0.06165698543190956, -0.03717540204524994, -0.04808162897825241, -0.03577794134616852, 0.004995937924832106, 0.02136741392314434, -0.015018094331026077, 3.2018276758170705e-33, -0.052477121353149414, -0.06902970373630524, -0.0036540490109473467, -0.038238298147916794, 0.004362783394753933, -0.052425697445869446, -0.013086467050015926, 0.005941526032984257, -0.014176092110574245, -0.04191833734512329, 0.022681213915348053, 0.058906447142362595, -0.020246820524334908, 0.024578921496868134, 0.06264393031597137, -0.03364638239145279, 0.016073094680905342, 0.040031880140304565, 0.012139537371695042, 0.012866511009633541, -0.07587513327598572, 0.059562619775533676, -0.004075383767485619, 0.0007374057895503938, -0.00032631270005367696, 0.030320905148983, -0.02104480378329754, -0.014553310349583626, 0.048063650727272034, 0.0003186310059390962, -0.01564786210656166, -0.02169428952038288, -0.07035673409700394, -0.013947384431958199, 0.006970557849854231, -0.003149401629343629, 0.042892273515462875, 0.0032000902574509382, -0.02858573943376541, -0.042111389338970184, -0.023542677983641624, -0.02217353880405426, -0.022653035819530487, -0.08510559052228928, 0.05318520590662956, 0.005561293568462133, 0.020851915702223778, 0.0032665561884641647, -0.0027277881745249033, 0.039839357137680054, -0.057333484292030334, -0.018678240478038788, -0.01357813086360693, 0.07482665032148361, -0.014346678741276264, -0.04936248064041138, -0.011662889271974564, 0.0118554150685668, 0.02964099682867527, -0.009201059117913246, -0.03419597074389458, 0.0026960705872625113, 0.02325819805264473, 0.025877762585878372, 0.04591596871614456, -0.011820443905889988, -0.032703835517168045, 0.0009564338251948357, -0.00458246236667037, -0.02048306167125702, 0.024816419929265976, 0.015599061734974384, -0.003090279409661889, 0.04164034128189087, 0.0312633141875267, -0.04105369374155998, 0.05179595947265625, -0.04308038577437401, -0.008740728721022606, 0.02140209637582302, -0.01871936209499836, -0.0011145294411107898, 0.014377331361174583, -0.04576733708381653, 0.03595331311225891, 0.1039162427186966, -0.03689980506896973, -0.008642133325338364, -0.033254750072956085, 0.0020993519574403763, -0.011412575840950012, -0.005337849725037813, -0.02770317532122135, 0.0006607021205127239, 0.018172841519117355, -0.01036054641008377, 0.03357676416635513, 0.029325494542717934, -0.013113019987940788, -0.029583878815174103, 0.00565012963488698, -0.03720995783805847, 0.04606379196047783, 0.06867661327123642, -0.016958674415946007, 0.01071646623313427, 0.00146592000965029, -0.043655406683683395, 0.003425183007493615, -0.039805300533771515, -0.0221253652125597, 0.03441183269023895, 0.01094885915517807, 0.010527476668357849, -0.013720734976232052, 0.03543023020029068, -0.005737463477998972, 0.015150128863751888, -0.048755355179309845, -0.014253686182200909, -0.046303413808345795, 0.014822257682681084, 0.01737552508711815, -0.004548924975097179, -0.06536196917295456, 0.01925053633749485, 0.022497307509183884, -0.02173265814781189, -0.0148546127602458, 0.01601499691605568, -0.01875140890479088, 0.015031740069389343, -0.009158901870250702, 0.03655310347676277, -0.02981443516910076, 0.03930624574422836, -0.001485787914134562, 0.03809152916073799, -0.049765318632125854, -0.01858549937605858, 0.030416663736104965, 0.03094366192817688, -0.027189262211322784, -0.013464235700666904, -0.01483220886439085, 0.03973667696118355, 0.0019665418658405542, 0.03960491716861725, 0.04739704728126526, -0.019301054999232292, -0.007081524934619665, -0.03272543475031853, -0.0348375104367733, 0.00021901835862081498, 0.0344599187374115, 0.03746912628412247, -0.004314228892326355, 0.04983160272240639, 0.0692787915468216, 0.04364842176437378, -0.0005931731429882348, -0.04667270556092262, 0.0674627348780632, -0.039835311472415924, -0.01251415628939867, 0.02037060260772705, -0.08661457896232605, -0.037391550838947296, -0.0939905047416687, 0.0761605054140091, -0.03815051540732384, 0.01701195351779461, -0.058962587267160416, -0.0019390458473935723, 0.07240036129951477, -0.0141974538564682, 0.050862863659858704, -0.01717311143875122, 0.013045589439570904, 0.10147064179182053, 0.046430349349975586, 0.040397074073553085, 0.005668397527188063, -0.05682319775223732, -0.030308613553643227, 0.00816345401108265, -0.015767553821206093, 0.018169553950428963, 0.009908941574394703, -0.031215334311127663, -0.024702178314328194, 0.03838779032230377, 0.039036255329847336, 0.027689894661307335, 0.04930141940712929, 0.02273143082857132, -0.03701319545507431, 0.008287029340863228, -0.03173547238111496, 0.010801584459841251, -0.018115617334842682, -0.000498634937684983, -0.03174019977450371, 0.02482333779335022, 0.050665151327848434, 0.02371775172650814, 0.06818431615829468, 0.014949489384889603, -0.021087490022182465, 0.03022872842848301, 0.03408357501029968, -0.0009641819051466882, -0.0008730504778213799, 0.05275389179587364, -0.014003477990627289, -0.005192141514271498, 0.0016962130321189761, -0.020144369453191757, 0.023245472460985184, -0.014007342979311943, -0.0315551795065403, 0.01154140941798687, -0.014954586513340473, -0.07178141176700592, 0.0688205435872078, 0.05132480710744858, 0.005864792503416538, 0.05959537997841835, 0.015181141905486584, 0.027643894776701927, 0.017592882737517357, 0.028098365291953087, -0.06050485000014305, 0.07473760098218918, -0.010162713006138802, 0.046974726021289825, 0.01623900607228279, 0.03952626883983612, 0.01809236966073513, 0.02140618860721588, -0.024707386270165443, 0.04469659551978111, -0.020520346239209175, -0.036424536257982254, 0.013845503330230713, -0.017531223595142365, 0.05618146434426308, -0.056921280920505524, -0.01178960781544447, 0.012302130460739136, 0.0503864511847496, -0.02397295832633972, 0.016977796331048012, 0.019132332876324654, -0.008635291829705238, 0.04046885296702385, 0.052558526396751404, -0.04937383905053139, -0.062111061066389084, -0.04115933179855347, 0.0010372294345870614, -0.04581988602876663, -0.03644360229372978, 0.051388539373874664, -0.04002569988369942, 0.0272525567561388, 0.1056830883026123, 0.0027024406008422375, 0.0033332547172904015, 0.018643220886588097, 0.01422632485628128, 0.005002759862691164, 0.039483580738306046]\n"
          ]
        }
      ]
    },
    {
      "cell_type": "code",
      "source": [
        "!pip install -qU langchain-chroma"
      ],
      "metadata": {
        "id": "N50_DpMTkbJd"
      },
      "execution_count": 94,
      "outputs": []
    },
    {
      "cell_type": "code",
      "source": [
        "from langchain_chroma import Chroma\n",
        "\n",
        "vector_store = Chroma(embedding_function=embeddings)"
      ],
      "metadata": {
        "id": "78FO8upOknLa"
      },
      "execution_count": 95,
      "outputs": []
    },
    {
      "cell_type": "code",
      "source": [
        "ids = vector_store.add_documents(documents=all_splits)"
      ],
      "metadata": {
        "id": "zs9H7HuTkzlm"
      },
      "execution_count": 96,
      "outputs": []
    },
    {
      "cell_type": "code",
      "source": [
        "results = vector_store.similarity_search(\n",
        "    \"How many people were killed in Jallianwala Bagh massacre?\"\n",
        ")\n",
        "\n",
        "print(results[0])"
      ],
      "metadata": {
        "colab": {
          "base_uri": "https://localhost:8080/"
        },
        "id": "2fWVF6c2k6ue",
        "outputId": "660ba3d1-2497-4dcc-d408-95f401bb437a"
      },
      "execution_count": 97,
      "outputs": [
        {
          "output_type": "stream",
          "name": "stdout",
          "text": [
            "page_content='Sidney Rowlatt, best remembered\n",
            "for his controversial presidency of\n",
            "the Rowlatt Committee, a sedition\n",
            "committee appointed in 1918 by the\n",
            "British Indian Government to\n",
            "evaluate the links between political\n",
            "terrorism in India, the actions\n",
            "indirectly led to the infamous\n",
            "Jallianwala Bagh massacre of 1919.\n",
            "The Martyrs' Well of Jallianwala\n",
            "Bagh massacre, at Jallianwala\n",
            "Bagh. 120 bodies were recovered\n",
            "from this well as per inscription on\n",
            "it.[91]\n",
            "Mahatma Gandhi.\n",
            "the harsher way.[92] A total\n",
            "of 1,651 rounds were fired,\n",
            "killing 379 people (as\n",
            "according to an official\n",
            "British commission; Indian' metadata={'creationdate': '2024-12-16T12:13:11+00:00', 'creator': 'Mozilla/5.0 (X11; Linux x86_64) AppleWebKit/537.36 (KHTML, like Gecko) HeadlessChrome/128.0.0.0 Safari/537.36', 'moddate': '2024-12-16T12:13:11+00:00', 'page': 19, 'page_label': '20', 'producer': 'Skia/PDF m128', 'source': '/content/Indian_independence_movement.pdf', 'start_index': 0, 'title': 'Indian independence movement - Wikipedia', 'total_pages': 46}\n"
          ]
        }
      ]
    }
  ]
}